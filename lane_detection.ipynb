{
 "cells": [
  {
   "cell_type": "code",
   "execution_count": 1,
   "metadata": {},
   "outputs": [],
   "source": [
    "import numpy as np\n",
    "import cv2"
   ]
  },
  {
   "cell_type": "code",
   "execution_count": 7,
   "metadata": {},
   "outputs": [],
   "source": [
    "video = cv2.VideoCapture(\"resources/lane_vid.mp4\") #upload ur own video\n",
    "\n",
    "def create_mask(img):\n",
    "    copy_img = img.copy()\n",
    "    mask = np.zeros_like(copy_img)\n",
    "    height , width = np.shape(copy_img)\n",
    "    vertices = [(0,height),(width, height),(width,height/1.5),(width/2,height/3),(0,height/1.5)]\n",
    "    vertices = np.array(vertices,dtype=np.int32)\n",
    "    masked_img=cv2.fillPoly(mask,[vertices],(255,255,255))\n",
    "    final_img = cv2.bitwise_and(copy_img,masked_img)\n",
    "    return final_img\n",
    "    \n",
    "\n",
    "while True:\n",
    "    success , img_video = video.read()\n",
    "    \n",
    "    if success == True:\n",
    "        grey = cv2.cvtColor(img_video,cv2.COLOR_BGR2GRAY)\n",
    "        blur = cv2.GaussianBlur(grey,(1,1),0)\n",
    "        canny = cv2.Canny(blur,100,100)\n",
    "        mask_img = create_mask(canny)\n",
    "        \n",
    "        points = cv2.HoughLinesP(mask_img,1,theta=np.pi/180,threshold=200,minLineLength=60,maxLineGap=2)\n",
    "       \n",
    "        if points is not None:\n",
    "            for pts in points:\n",
    "\n",
    "\n",
    "                x1 ,y1 ,x2 ,y2 = pts[0]\n",
    "                cv2.line(img_video,(x1, y1),(x2, y2),(0,0,255),5)\n",
    "        else:\n",
    "            pass\n",
    "            \n",
    "        \n",
    "        \n",
    "        \n",
    "                \n",
    "        \n",
    "        cv2.imshow(\"video\",img_video)\n",
    "    \n",
    "        if cv2.waitKey(10) & 0xFF==ord('q'):\n",
    "            cv2.destroyAllWindows()\n",
    "            break\n",
    "    else:\n",
    "        cv2.destroyAllWindows()\n",
    "        break"
   ]
  },
  {
   "cell_type": "code",
   "execution_count": null,
   "metadata": {},
   "outputs": [],
   "source": []
  },
  {
   "cell_type": "code",
   "execution_count": null,
   "metadata": {},
   "outputs": [],
   "source": []
  }
 ],
 "metadata": {
  "kernelspec": {
   "display_name": "Python 3",
   "language": "python",
   "name": "python3"
  },
  "language_info": {
   "codemirror_mode": {
    "name": "ipython",
    "version": 3
   },
   "file_extension": ".py",
   "mimetype": "text/x-python",
   "name": "python",
   "nbconvert_exporter": "python",
   "pygments_lexer": "ipython3",
   "version": "3.7.3"
  }
 },
 "nbformat": 4,
 "nbformat_minor": 2
}
